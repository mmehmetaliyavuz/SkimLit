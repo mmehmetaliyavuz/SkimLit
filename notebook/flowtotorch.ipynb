{
  "nbformat": 4,
  "nbformat_minor": 0,
  "metadata": {
    "colab": {
      "provenance": [],
      "gpuType": "T4"
    },
    "kernelspec": {
      "name": "python3",
      "display_name": "Python 3"
    },
    "language_info": {
      "name": "python"
    },
    "accelerator": "GPU"
  },
  "cells": [
    {
      "cell_type": "code",
      "execution_count": 1,
      "metadata": {
        "colab": {
          "base_uri": "https://localhost:8080/"
        },
        "id": "g8iUqj7aR7U5",
        "outputId": "3d514995-3853-4fdf-ab2b-306e08d379cd"
      },
      "outputs": [
        {
          "output_type": "stream",
          "name": "stdout",
          "text": [
            "Cloning into 'pubmed-rct'...\n",
            "remote: Enumerating objects: 39, done.\u001b[K\n",
            "remote: Counting objects: 100% (14/14), done.\u001b[K\n",
            "remote: Compressing objects: 100% (9/9), done.\u001b[K\n",
            "remote: Total 39 (delta 8), reused 5 (delta 5), pack-reused 25\u001b[K\n",
            "Receiving objects: 100% (39/39), 177.08 MiB | 35.39 MiB/s, done.\n",
            "Resolving deltas: 100% (15/15), done.\n",
            "Updating files: 100% (13/13), done.\n",
            "PubMed_200k_RCT\t\t\t\t       PubMed_20k_RCT_numbers_replaced_with_at_sign\n",
            "PubMed_200k_RCT_numbers_replaced_with_at_sign  README.md\n",
            "PubMed_20k_RCT\n"
          ]
        }
      ],
      "source": [
        "!git clone https://github.com/Franck-Dernoncourt/pubmed-rct.git\n",
        "!ls pubmed-rct"
      ]
    },
    {
      "cell_type": "code",
      "source": [
        "import torch\n",
        "import numpy as np\n",
        "import pandas as pd\n",
        "import matplotlib.pyplot as plt\n",
        "from torch import nn\n",
        "import torchtext"
      ],
      "metadata": {
        "id": "AbA1EtYXjonL"
      },
      "execution_count": 2,
      "outputs": []
    },
    {
      "cell_type": "code",
      "source": [
        "device = torch.device('cuda' if torch.cuda.is_available() else 'cpu')\n",
        "print(device)\n",
        "\n",
        "batch_size = 32\n",
        "\n",
        "max_length = 128"
      ],
      "metadata": {
        "colab": {
          "base_uri": "https://localhost:8080/"
        },
        "id": "xuUOQb_ssq6r",
        "outputId": "e65fc3b3-d747-4a59-b334-8750df0afe69"
      },
      "execution_count": 3,
      "outputs": [
        {
          "output_type": "stream",
          "name": "stdout",
          "text": [
            "cuda\n"
          ]
        }
      ]
    },
    {
      "cell_type": "code",
      "source": [
        "!mkdir /content/modules\n",
        "!wget -P /content/modules https://raw.githubusercontent.com/mmehmetaliyavuz/SkimLit/main/dataframe.py\n",
        "!wget -P /content/modules https://raw.githubusercontent.com/mmehmetaliyavuz/SkimLit/main/dftonlp.py"
      ],
      "metadata": {
        "colab": {
          "base_uri": "https://localhost:8080/"
        },
        "id": "S5QymabQazG6",
        "outputId": "e6279d94-630e-40a4-86ef-e6045171968c"
      },
      "execution_count": 4,
      "outputs": [
        {
          "output_type": "stream",
          "name": "stdout",
          "text": [
            "--2024-04-10 10:24:54--  https://raw.githubusercontent.com/mmehmetaliyavuz/SkimLit/main/dataframe.py\n",
            "Resolving raw.githubusercontent.com (raw.githubusercontent.com)... 185.199.108.133, 185.199.109.133, 185.199.110.133, ...\n",
            "Connecting to raw.githubusercontent.com (raw.githubusercontent.com)|185.199.108.133|:443... connected.\n",
            "HTTP request sent, awaiting response... 200 OK\n",
            "Length: 1950 (1.9K) [text/plain]\n",
            "Saving to: ‘/content/modules/dataframe.py’\n",
            "\n",
            "\rdataframe.py          0%[                    ]       0  --.-KB/s               \rdataframe.py        100%[===================>]   1.90K  --.-KB/s    in 0s      \n",
            "\n",
            "2024-04-10 10:24:54 (39.7 MB/s) - ‘/content/modules/dataframe.py’ saved [1950/1950]\n",
            "\n",
            "--2024-04-10 10:24:54--  https://raw.githubusercontent.com/mmehmetaliyavuz/SkimLit/main/dftonlp.py\n",
            "Resolving raw.githubusercontent.com (raw.githubusercontent.com)... 185.199.108.133, 185.199.109.133, 185.199.110.133, ...\n",
            "Connecting to raw.githubusercontent.com (raw.githubusercontent.com)|185.199.108.133|:443... connected.\n",
            "HTTP request sent, awaiting response... 200 OK\n",
            "Length: 3473 (3.4K) [text/plain]\n",
            "Saving to: ‘/content/modules/dftonlp.py’\n",
            "\n",
            "dftonlp.py          100%[===================>]   3.39K  --.-KB/s    in 0s      \n",
            "\n",
            "2024-04-10 10:24:54 (43.5 MB/s) - ‘/content/modules/dftonlp.py’ saved [3473/3473]\n",
            "\n"
          ]
        }
      ]
    },
    {
      "cell_type": "code",
      "source": [
        "from modules.dataframe import dfPubMed\n",
        "test_path = \"/content/pubmed-rct/PubMed_20k_RCT_numbers_replaced_with_at_sign/test.txt\"\n",
        "train_path = \"/content/pubmed-rct/PubMed_20k_RCT_numbers_replaced_with_at_sign/train.txt\"\n",
        "dataframePubMed = dfPubMed(train_path,test_path)\n",
        "train_data = dataframePubMed.get_dataframe(train_path)\n",
        "test_data = dataframePubMed.get_dataframe(test_path)"
      ],
      "metadata": {
        "id": "rb-mGOnAP27l"
      },
      "execution_count": 5,
      "outputs": []
    },
    {
      "cell_type": "code",
      "source": [
        "train_data.head()"
      ],
      "metadata": {
        "colab": {
          "base_uri": "https://localhost:8080/",
          "height": 206
        },
        "id": "mC56K8mSnGxq",
        "outputId": "bfe1fed7-2104-445d-ed59-03ace10335ef"
      },
      "execution_count": 6,
      "outputs": [
        {
          "output_type": "execute_result",
          "data": {
            "text/plain": [
              "         id       type                                           sentence  \\\n",
              "0  24293578  OBJECTIVE  To investigate the efficacy of @ weeks of dail...   \n",
              "1  24293578    METHODS  A total of @ patients with primary knee OA wer...   \n",
              "2  24293578    METHODS  Outcome measures included pain reduction and i...   \n",
              "3  24293578    METHODS  Pain was assessed using the visual analog pain...   \n",
              "4  24293578    METHODS  Secondary outcome measures included the Wester...   \n",
              "\n",
              "   order  length  \n",
              "0      1      12  \n",
              "1      2      12  \n",
              "2      3      12  \n",
              "3      4      12  \n",
              "4      5      12  "
            ],
            "text/html": [
              "\n",
              "  <div id=\"df-cfe6e9bf-e07a-4bec-88f4-b8e564e05191\" class=\"colab-df-container\">\n",
              "    <div>\n",
              "<style scoped>\n",
              "    .dataframe tbody tr th:only-of-type {\n",
              "        vertical-align: middle;\n",
              "    }\n",
              "\n",
              "    .dataframe tbody tr th {\n",
              "        vertical-align: top;\n",
              "    }\n",
              "\n",
              "    .dataframe thead th {\n",
              "        text-align: right;\n",
              "    }\n",
              "</style>\n",
              "<table border=\"1\" class=\"dataframe\">\n",
              "  <thead>\n",
              "    <tr style=\"text-align: right;\">\n",
              "      <th></th>\n",
              "      <th>id</th>\n",
              "      <th>type</th>\n",
              "      <th>sentence</th>\n",
              "      <th>order</th>\n",
              "      <th>length</th>\n",
              "    </tr>\n",
              "  </thead>\n",
              "  <tbody>\n",
              "    <tr>\n",
              "      <th>0</th>\n",
              "      <td>24293578</td>\n",
              "      <td>OBJECTIVE</td>\n",
              "      <td>To investigate the efficacy of @ weeks of dail...</td>\n",
              "      <td>1</td>\n",
              "      <td>12</td>\n",
              "    </tr>\n",
              "    <tr>\n",
              "      <th>1</th>\n",
              "      <td>24293578</td>\n",
              "      <td>METHODS</td>\n",
              "      <td>A total of @ patients with primary knee OA wer...</td>\n",
              "      <td>2</td>\n",
              "      <td>12</td>\n",
              "    </tr>\n",
              "    <tr>\n",
              "      <th>2</th>\n",
              "      <td>24293578</td>\n",
              "      <td>METHODS</td>\n",
              "      <td>Outcome measures included pain reduction and i...</td>\n",
              "      <td>3</td>\n",
              "      <td>12</td>\n",
              "    </tr>\n",
              "    <tr>\n",
              "      <th>3</th>\n",
              "      <td>24293578</td>\n",
              "      <td>METHODS</td>\n",
              "      <td>Pain was assessed using the visual analog pain...</td>\n",
              "      <td>4</td>\n",
              "      <td>12</td>\n",
              "    </tr>\n",
              "    <tr>\n",
              "      <th>4</th>\n",
              "      <td>24293578</td>\n",
              "      <td>METHODS</td>\n",
              "      <td>Secondary outcome measures included the Wester...</td>\n",
              "      <td>5</td>\n",
              "      <td>12</td>\n",
              "    </tr>\n",
              "  </tbody>\n",
              "</table>\n",
              "</div>\n",
              "    <div class=\"colab-df-buttons\">\n",
              "\n",
              "  <div class=\"colab-df-container\">\n",
              "    <button class=\"colab-df-convert\" onclick=\"convertToInteractive('df-cfe6e9bf-e07a-4bec-88f4-b8e564e05191')\"\n",
              "            title=\"Convert this dataframe to an interactive table.\"\n",
              "            style=\"display:none;\">\n",
              "\n",
              "  <svg xmlns=\"http://www.w3.org/2000/svg\" height=\"24px\" viewBox=\"0 -960 960 960\">\n",
              "    <path d=\"M120-120v-720h720v720H120Zm60-500h600v-160H180v160Zm220 220h160v-160H400v160Zm0 220h160v-160H400v160ZM180-400h160v-160H180v160Zm440 0h160v-160H620v160ZM180-180h160v-160H180v160Zm440 0h160v-160H620v160Z\"/>\n",
              "  </svg>\n",
              "    </button>\n",
              "\n",
              "  <style>\n",
              "    .colab-df-container {\n",
              "      display:flex;\n",
              "      gap: 12px;\n",
              "    }\n",
              "\n",
              "    .colab-df-convert {\n",
              "      background-color: #E8F0FE;\n",
              "      border: none;\n",
              "      border-radius: 50%;\n",
              "      cursor: pointer;\n",
              "      display: none;\n",
              "      fill: #1967D2;\n",
              "      height: 32px;\n",
              "      padding: 0 0 0 0;\n",
              "      width: 32px;\n",
              "    }\n",
              "\n",
              "    .colab-df-convert:hover {\n",
              "      background-color: #E2EBFA;\n",
              "      box-shadow: 0px 1px 2px rgba(60, 64, 67, 0.3), 0px 1px 3px 1px rgba(60, 64, 67, 0.15);\n",
              "      fill: #174EA6;\n",
              "    }\n",
              "\n",
              "    .colab-df-buttons div {\n",
              "      margin-bottom: 4px;\n",
              "    }\n",
              "\n",
              "    [theme=dark] .colab-df-convert {\n",
              "      background-color: #3B4455;\n",
              "      fill: #D2E3FC;\n",
              "    }\n",
              "\n",
              "    [theme=dark] .colab-df-convert:hover {\n",
              "      background-color: #434B5C;\n",
              "      box-shadow: 0px 1px 3px 1px rgba(0, 0, 0, 0.15);\n",
              "      filter: drop-shadow(0px 1px 2px rgba(0, 0, 0, 0.3));\n",
              "      fill: #FFFFFF;\n",
              "    }\n",
              "  </style>\n",
              "\n",
              "    <script>\n",
              "      const buttonEl =\n",
              "        document.querySelector('#df-cfe6e9bf-e07a-4bec-88f4-b8e564e05191 button.colab-df-convert');\n",
              "      buttonEl.style.display =\n",
              "        google.colab.kernel.accessAllowed ? 'block' : 'none';\n",
              "\n",
              "      async function convertToInteractive(key) {\n",
              "        const element = document.querySelector('#df-cfe6e9bf-e07a-4bec-88f4-b8e564e05191');\n",
              "        const dataTable =\n",
              "          await google.colab.kernel.invokeFunction('convertToInteractive',\n",
              "                                                    [key], {});\n",
              "        if (!dataTable) return;\n",
              "\n",
              "        const docLinkHtml = 'Like what you see? Visit the ' +\n",
              "          '<a target=\"_blank\" href=https://colab.research.google.com/notebooks/data_table.ipynb>data table notebook</a>'\n",
              "          + ' to learn more about interactive tables.';\n",
              "        element.innerHTML = '';\n",
              "        dataTable['output_type'] = 'display_data';\n",
              "        await google.colab.output.renderOutput(dataTable, element);\n",
              "        const docLink = document.createElement('div');\n",
              "        docLink.innerHTML = docLinkHtml;\n",
              "        element.appendChild(docLink);\n",
              "      }\n",
              "    </script>\n",
              "  </div>\n",
              "\n",
              "\n",
              "<div id=\"df-d00cb5f4-a3a2-420f-8ae3-e028b96e816c\">\n",
              "  <button class=\"colab-df-quickchart\" onclick=\"quickchart('df-d00cb5f4-a3a2-420f-8ae3-e028b96e816c')\"\n",
              "            title=\"Suggest charts\"\n",
              "            style=\"display:none;\">\n",
              "\n",
              "<svg xmlns=\"http://www.w3.org/2000/svg\" height=\"24px\"viewBox=\"0 0 24 24\"\n",
              "     width=\"24px\">\n",
              "    <g>\n",
              "        <path d=\"M19 3H5c-1.1 0-2 .9-2 2v14c0 1.1.9 2 2 2h14c1.1 0 2-.9 2-2V5c0-1.1-.9-2-2-2zM9 17H7v-7h2v7zm4 0h-2V7h2v10zm4 0h-2v-4h2v4z\"/>\n",
              "    </g>\n",
              "</svg>\n",
              "  </button>\n",
              "\n",
              "<style>\n",
              "  .colab-df-quickchart {\n",
              "      --bg-color: #E8F0FE;\n",
              "      --fill-color: #1967D2;\n",
              "      --hover-bg-color: #E2EBFA;\n",
              "      --hover-fill-color: #174EA6;\n",
              "      --disabled-fill-color: #AAA;\n",
              "      --disabled-bg-color: #DDD;\n",
              "  }\n",
              "\n",
              "  [theme=dark] .colab-df-quickchart {\n",
              "      --bg-color: #3B4455;\n",
              "      --fill-color: #D2E3FC;\n",
              "      --hover-bg-color: #434B5C;\n",
              "      --hover-fill-color: #FFFFFF;\n",
              "      --disabled-bg-color: #3B4455;\n",
              "      --disabled-fill-color: #666;\n",
              "  }\n",
              "\n",
              "  .colab-df-quickchart {\n",
              "    background-color: var(--bg-color);\n",
              "    border: none;\n",
              "    border-radius: 50%;\n",
              "    cursor: pointer;\n",
              "    display: none;\n",
              "    fill: var(--fill-color);\n",
              "    height: 32px;\n",
              "    padding: 0;\n",
              "    width: 32px;\n",
              "  }\n",
              "\n",
              "  .colab-df-quickchart:hover {\n",
              "    background-color: var(--hover-bg-color);\n",
              "    box-shadow: 0 1px 2px rgba(60, 64, 67, 0.3), 0 1px 3px 1px rgba(60, 64, 67, 0.15);\n",
              "    fill: var(--button-hover-fill-color);\n",
              "  }\n",
              "\n",
              "  .colab-df-quickchart-complete:disabled,\n",
              "  .colab-df-quickchart-complete:disabled:hover {\n",
              "    background-color: var(--disabled-bg-color);\n",
              "    fill: var(--disabled-fill-color);\n",
              "    box-shadow: none;\n",
              "  }\n",
              "\n",
              "  .colab-df-spinner {\n",
              "    border: 2px solid var(--fill-color);\n",
              "    border-color: transparent;\n",
              "    border-bottom-color: var(--fill-color);\n",
              "    animation:\n",
              "      spin 1s steps(1) infinite;\n",
              "  }\n",
              "\n",
              "  @keyframes spin {\n",
              "    0% {\n",
              "      border-color: transparent;\n",
              "      border-bottom-color: var(--fill-color);\n",
              "      border-left-color: var(--fill-color);\n",
              "    }\n",
              "    20% {\n",
              "      border-color: transparent;\n",
              "      border-left-color: var(--fill-color);\n",
              "      border-top-color: var(--fill-color);\n",
              "    }\n",
              "    30% {\n",
              "      border-color: transparent;\n",
              "      border-left-color: var(--fill-color);\n",
              "      border-top-color: var(--fill-color);\n",
              "      border-right-color: var(--fill-color);\n",
              "    }\n",
              "    40% {\n",
              "      border-color: transparent;\n",
              "      border-right-color: var(--fill-color);\n",
              "      border-top-color: var(--fill-color);\n",
              "    }\n",
              "    60% {\n",
              "      border-color: transparent;\n",
              "      border-right-color: var(--fill-color);\n",
              "    }\n",
              "    80% {\n",
              "      border-color: transparent;\n",
              "      border-right-color: var(--fill-color);\n",
              "      border-bottom-color: var(--fill-color);\n",
              "    }\n",
              "    90% {\n",
              "      border-color: transparent;\n",
              "      border-bottom-color: var(--fill-color);\n",
              "    }\n",
              "  }\n",
              "</style>\n",
              "\n",
              "  <script>\n",
              "    async function quickchart(key) {\n",
              "      const quickchartButtonEl =\n",
              "        document.querySelector('#' + key + ' button');\n",
              "      quickchartButtonEl.disabled = true;  // To prevent multiple clicks.\n",
              "      quickchartButtonEl.classList.add('colab-df-spinner');\n",
              "      try {\n",
              "        const charts = await google.colab.kernel.invokeFunction(\n",
              "            'suggestCharts', [key], {});\n",
              "      } catch (error) {\n",
              "        console.error('Error during call to suggestCharts:', error);\n",
              "      }\n",
              "      quickchartButtonEl.classList.remove('colab-df-spinner');\n",
              "      quickchartButtonEl.classList.add('colab-df-quickchart-complete');\n",
              "    }\n",
              "    (() => {\n",
              "      let quickchartButtonEl =\n",
              "        document.querySelector('#df-d00cb5f4-a3a2-420f-8ae3-e028b96e816c button');\n",
              "      quickchartButtonEl.style.display =\n",
              "        google.colab.kernel.accessAllowed ? 'block' : 'none';\n",
              "    })();\n",
              "  </script>\n",
              "</div>\n",
              "    </div>\n",
              "  </div>\n"
            ],
            "application/vnd.google.colaboratory.intrinsic+json": {
              "type": "dataframe",
              "variable_name": "train_data"
            }
          },
          "metadata": {},
          "execution_count": 6
        }
      ]
    },
    {
      "cell_type": "code",
      "source": [
        "from modules.dftonlp import nlpPudMed\n",
        "nlp_processor = nlpPudMed(train_data, test_data)\n",
        "padded_train,padded_test = nlp_processor.preprocess_data()\n",
        "train_labels,test_labels = nlp_processor.encode_labels()"
      ],
      "metadata": {
        "colab": {
          "base_uri": "https://localhost:8080/"
        },
        "id": "J65oX9E_zrSv",
        "outputId": "a3ec2e92-9e0b-413f-8683-ae243cb4ac00"
      },
      "execution_count": 7,
      "outputs": [
        {
          "output_type": "stream",
          "name": "stderr",
          "text": [
            "[nltk_data] Downloading package stopwords to /root/nltk_data...\n",
            "[nltk_data]   Unzipping corpora/stopwords.zip.\n"
          ]
        },
        {
          "output_type": "stream",
          "name": "stdout",
          "text": [
            "['i', 'me', 'my', 'myself', 'we']\n"
          ]
        },
        {
          "output_type": "stream",
          "name": "stderr",
          "text": [
            "/usr/local/lib/python3.10/dist-packages/torchtext/data/utils.py:105: UserWarning: Spacy model \"en\" could not be loaded, trying \"en_core_web_sm\" instead\n",
            "  warnings.warn(\n"
          ]
        }
      ]
    },
    {
      "cell_type": "code",
      "source": [
        "from torch.utils.data import Dataset\n",
        "from torch.utils.data import DataLoader\n",
        "class CustomDataset(Dataset):\n",
        "    def __init__(self, datas, labels):\n",
        "        self.data = datas\n",
        "        self.labels = labels\n",
        "\n",
        "    def __len__(self):\n",
        "        return len(self.data)\n",
        "\n",
        "    def __getitem__(self, idx):\n",
        "        sentence = self.data[idx]\n",
        "        label = self.labels[idx]\n",
        "        return sentence, label"
      ],
      "metadata": {
        "id": "Qc7EXuZe2heH"
      },
      "execution_count": 8,
      "outputs": []
    },
    {
      "cell_type": "code",
      "source": [
        "import os\n",
        "num_cpus = os.cpu_count()\n",
        "num_cpus\n",
        "train_loader = CustomDataset(padded_train,train_labels)\n",
        "train_dataloader = DataLoader(dataset=train_loader, batch_size=32, shuffle=True, pin_memory=True, num_workers=num_cpus)\n",
        "test_loader = CustomDataset(padded_test,test_labels)\n",
        "test_dataloader = DataLoader(dataset=test_loader, batch_size=32, shuffle=True, pin_memory=True, num_workers=num_cpus)"
      ],
      "metadata": {
        "id": "viEo8wTE4Sgd"
      },
      "execution_count": 9,
      "outputs": []
    },
    {
      "cell_type": "code",
      "source": [
        "all_data = torch.cat([data for data, _ in train_dataloader], dim=0)\n",
        "unique_elements = torch.unique(all_data)\n",
        "VOCAB_SIZE = len(unique_elements)\n"
      ],
      "metadata": {
        "id": "0tX_2NSMbzKa"
      },
      "execution_count": 10,
      "outputs": []
    },
    {
      "cell_type": "code",
      "source": [
        "all_data = torch.cat([label for _, label in train_dataloader], dim=0)\n",
        "unique_elements = torch.unique(all_data)\n",
        "NUM_CLASSES = len(unique_elements)\n",
        "NUM_CLASSES"
      ],
      "metadata": {
        "colab": {
          "base_uri": "https://localhost:8080/"
        },
        "id": "5RUMvkNACLid",
        "outputId": "bda60fdd-00fc-4b12-9483-b57a4f218b31"
      },
      "execution_count": 11,
      "outputs": [
        {
          "output_type": "execute_result",
          "data": {
            "text/plain": [
              "5"
            ]
          },
          "metadata": {},
          "execution_count": 11
        }
      ]
    },
    {
      "cell_type": "code",
      "source": [
        "EMBEDDING_DIM = 128\n"
      ],
      "metadata": {
        "id": "1AjqII0MChLn"
      },
      "execution_count": 12,
      "outputs": []
    },
    {
      "cell_type": "code",
      "source": [
        "embed = torch.nn.Embedding(VOCAB_SIZE,128)"
      ],
      "metadata": {
        "id": "LeS9VCmyxuai"
      },
      "execution_count": 13,
      "outputs": []
    },
    {
      "cell_type": "code",
      "source": [
        "import torch\n",
        "import torch.nn as nn\n",
        "import torch.nn.functional as F\n",
        "\n",
        "class TextCNN(nn.Module):\n",
        "    def __init__(self, vocab_size, embedding_dim, num_classes, kernel_size=5, num_filters=64):\n",
        "        super(TextCNN, self).__init__()\n",
        "        self.embedding = nn.Embedding(vocab_size, embedding_dim)\n",
        "        self.conv = nn.Conv1d(embedding_dim, num_filters, kernel_size)\n",
        "        self.global_pooling = nn.AdaptiveAvgPool1d(1)\n",
        "        self.fc = nn.Linear(num_filters, num_classes)\n",
        "\n",
        "    def forward(self, x):\n",
        "        embedded = self.embedding(x)\n",
        "        embedded = embedded.permute(0, 2, 1)\n",
        "        conv_out = self.conv(embedded)\n",
        "        activated = F.relu(conv_out)\n",
        "        pooled = self.global_pooling(activated).squeeze(dim=-1)\n",
        "        output = self.fc(pooled)\n",
        "        return F.softmax(output, dim=-1)\n",
        "\n",
        "\n",
        "\n",
        "model_1 = TextCNN(VOCAB_SIZE, EMBEDDING_DIM, NUM_CLASSES)\n"
      ],
      "metadata": {
        "id": "9ZfQNfiKG4We"
      },
      "execution_count": 14,
      "outputs": []
    },
    {
      "cell_type": "code",
      "source": [
        "import torch\n",
        "import torch.nn as nn\n",
        "import torch.nn.functional as F\n",
        "\n",
        "class TextCNN(nn.Module):\n",
        "    def __init__(self, vocab_size, embedding_dim, num_classes, kernel_size=5, num_filters=64):\n",
        "        super(TextCNN, self).__init__()\n",
        "        self.embedding = nn.Embedding(vocab_size, embedding_dim)\n",
        "        self.conv = nn.Conv1d(embedding_dim, num_filters, kernel_size)\n",
        "        self.global_pooling = nn.AdaptiveAvgPool1d(1)\n",
        "        self.fc = nn.Linear(num_filters, num_classes)\n",
        "\n",
        "    def forward(self, x):\n",
        "        embedded = self.embedding(x)  # [batch_size, seq_len, embedding_dim]\n",
        "        embedded = embedded.permute(0, 2, 1)  # [batch_size, embedding_dim, seq_len]\n",
        "        conv_out = self.conv(embedded)  # [batch_size, num_filters, seq_len - kernel_size + 1]\n",
        "        activated = F.relu(conv_out)\n",
        "        pooled = self.global_pooling(activated).squeeze(dim=-1)  # [batch_size, num_filters]\n",
        "        output = self.fc(pooled)  # [batch_size, num_classes]\n",
        "        return F.softmax(output, dim=-1)\n",
        "\n",
        "\n",
        "model = TextCNN(VOCAB_SIZE, EMBEDDING_DIM, NUM_CLASSES)\n",
        "loss_fn = nn.CrossEntropyLoss()\n",
        "\n",
        "optimizer = torch.optim.Adam(model.parameters(), lr=0.001)\n",
        "scheduler = torch.optim.lr_scheduler.ReduceLROnPlateau(optimizer, mode='min', factor=0.1, patience=3)\n"
      ],
      "metadata": {
        "id": "6f1FU1bmJN5_"
      },
      "execution_count": 16,
      "outputs": []
    },
    {
      "cell_type": "code",
      "source": [
        "from tqdm import tqdm\n",
        "def train_model(model, train_loader, val_loader, loss_fn, optimizer, scheduler, num_epochs):\n",
        "    for epoch in tqdm(range(num_epochs)):\n",
        "        print(f\"Epoch: {epoch}\\n-------\")\n",
        "        ### Training\n",
        "        train_loss = 0\n",
        "        correct = 0\n",
        "        total = 0\n",
        "        # Add a loop to loop through training batches\n",
        "        for batch, (X, y) in enumerate(train_loader):\n",
        "            model.train()\n",
        "            # 1. Forward pass\n",
        "            y_pred = model(X)\n",
        "\n",
        "            # 2. Calculate loss (per batch)\n",
        "            loss = loss_fn(y_pred, y)\n",
        "            train_loss += loss.item() # accumulatively add up the loss per epoch\n",
        "\n",
        "            # 3. Optimizer zero grad\n",
        "            optimizer.zero_grad()\n",
        "\n",
        "            # 4. Loss backward\n",
        "            loss.backward()\n",
        "\n",
        "            # 5. Optimizer step\n",
        "            optimizer.step()\n",
        "\n",
        "            # Print out how many samples have been seen\n",
        "            if batch % 400 == 0:\n",
        "                print(f\"Looked at {batch * len(X)}/{len(train_loader.dataset)} samples\")\n",
        "\n",
        "            _, predicted = torch.max(y_pred, 1)\n",
        "            total += y.size(0)\n",
        "            correct += (predicted == y).sum().item()\n",
        "\n",
        "        # Compute training loss and accuracy\n",
        "        train_loss /= len(train_loader.dataset)\n",
        "        train_accuracy = correct / total\n",
        "\n",
        "        # Validation loop\n",
        "        model.eval()\n",
        "        val_loss = 0.0\n",
        "        correct = 0\n",
        "        total = 0\n",
        "\n",
        "        with torch.no_grad():\n",
        "            for inputs, labels in val_loader:\n",
        "                outputs = model(inputs)\n",
        "                loss = loss_fn(outputs, labels)\n",
        "\n",
        "                val_loss += loss.item() * inputs.size(0)\n",
        "                _, predicted = torch.max(outputs, 1)\n",
        "                total += labels.size(0)\n",
        "                correct += (predicted == labels).sum().item()\n",
        "\n",
        "            # Compute validation loss and accuracy\n",
        "            val_loss /= len(val_loader.dataset)\n",
        "            val_accuracy = correct / total\n",
        "\n",
        "        print(f\"Epoch {epoch + 1}/{num_epochs}, \"\n",
        "              f\"Train Loss: {train_loss:.4f}, Train Acc: {train_accuracy:.4f}, \"\n",
        "              f\"Val Loss: {val_loss:.4f}, Val Acc: {val_accuracy:.4f}\")\n",
        "\n",
        "        # Update the learning rate scheduler\n",
        "        scheduler.step(val_loss)\n",
        "\n",
        "num_epochs = 3\n",
        "train_model(model, train_dataloader, test_dataloader, loss_fn, optimizer, scheduler, num_epochs)"
      ],
      "metadata": {
        "id": "ezge22qgOe_h",
        "colab": {
          "base_uri": "https://localhost:8080/"
        },
        "outputId": "3893034c-9f92-4565-fbbc-497a54e4bb86"
      },
      "execution_count": 17,
      "outputs": [
        {
          "output_type": "stream",
          "name": "stderr",
          "text": [
            "\r  0%|          | 0/3 [00:00<?, ?it/s]"
          ]
        },
        {
          "output_type": "stream",
          "name": "stdout",
          "text": [
            "Epoch: 0\n",
            "-------\n"
          ]
        },
        {
          "output_type": "stream",
          "name": "stderr",
          "text": [
            "/usr/lib/python3.10/multiprocessing/popen_fork.py:66: RuntimeWarning: os.fork() was called. os.fork() is incompatible with multithreaded code, and JAX is multithreaded, so this will likely lead to a deadlock.\n",
            "  self.pid = os.fork()\n"
          ]
        },
        {
          "output_type": "stream",
          "name": "stdout",
          "text": [
            "Looked at 0/180040 samples\n",
            "Looked at 12800/180040 samples\n",
            "Looked at 25600/180040 samples\n",
            "Looked at 38400/180040 samples\n",
            "Looked at 51200/180040 samples\n",
            "Looked at 64000/180040 samples\n",
            "Looked at 76800/180040 samples\n",
            "Looked at 89600/180040 samples\n",
            "Looked at 102400/180040 samples\n",
            "Looked at 115200/180040 samples\n",
            "Looked at 128000/180040 samples\n",
            "Looked at 140800/180040 samples\n",
            "Looked at 153600/180040 samples\n",
            "Looked at 166400/180040 samples\n",
            "Looked at 179200/180040 samples\n"
          ]
        },
        {
          "output_type": "stream",
          "name": "stderr",
          "text": [
            "/usr/lib/python3.10/multiprocessing/popen_fork.py:66: RuntimeWarning: os.fork() was called. os.fork() is incompatible with multithreaded code, and JAX is multithreaded, so this will likely lead to a deadlock.\n",
            "  self.pid = os.fork()\n",
            " 33%|███▎      | 1/3 [12:12<24:24, 732.22s/it]"
          ]
        },
        {
          "output_type": "stream",
          "name": "stdout",
          "text": [
            "Epoch 1/3, Train Loss: 0.0402, Train Acc: 0.6144, Val Loss: 1.2053, Val Acc: 0.6982\n",
            "Epoch: 1\n",
            "-------\n",
            "Looked at 0/180040 samples\n",
            "Looked at 12800/180040 samples\n",
            "Looked at 25600/180040 samples\n",
            "Looked at 38400/180040 samples\n",
            "Looked at 51200/180040 samples\n",
            "Looked at 64000/180040 samples\n",
            "Looked at 76800/180040 samples\n",
            "Looked at 89600/180040 samples\n",
            "Looked at 102400/180040 samples\n",
            "Looked at 115200/180040 samples\n",
            "Looked at 128000/180040 samples\n",
            "Looked at 140800/180040 samples\n",
            "Looked at 153600/180040 samples\n",
            "Looked at 166400/180040 samples\n",
            "Looked at 179200/180040 samples\n"
          ]
        },
        {
          "output_type": "stream",
          "name": "stderr",
          "text": [
            "\r 67%|██████▋   | 2/3 [26:15<13:17, 797.72s/it]"
          ]
        },
        {
          "output_type": "stream",
          "name": "stdout",
          "text": [
            "Epoch 2/3, Train Loss: 0.0366, Train Acc: 0.7315, Val Loss: 1.1730, Val Acc: 0.7310\n",
            "Epoch: 2\n",
            "-------\n",
            "Looked at 0/180040 samples\n",
            "Looked at 12800/180040 samples\n",
            "Looked at 25600/180040 samples\n",
            "Looked at 38400/180040 samples\n",
            "Looked at 51200/180040 samples\n",
            "Looked at 64000/180040 samples\n",
            "Looked at 76800/180040 samples\n",
            "Looked at 89600/180040 samples\n",
            "Looked at 102400/180040 samples\n",
            "Looked at 115200/180040 samples\n",
            "Looked at 128000/180040 samples\n",
            "Looked at 140800/180040 samples\n",
            "Looked at 153600/180040 samples\n",
            "Looked at 166400/180040 samples\n",
            "Looked at 179200/180040 samples\n"
          ]
        },
        {
          "output_type": "stream",
          "name": "stderr",
          "text": [
            "100%|██████████| 3/3 [40:11<00:00, 803.83s/it]"
          ]
        },
        {
          "output_type": "stream",
          "name": "stdout",
          "text": [
            "Epoch 3/3, Train Loss: 0.0356, Train Acc: 0.7661, Val Loss: 1.1633, Val Acc: 0.7385\n"
          ]
        },
        {
          "output_type": "stream",
          "name": "stderr",
          "text": [
            "\n"
          ]
        }
      ]
    },
    {
      "cell_type": "code",
      "source": [
        "import torch\n",
        "def save_model(model, target_dir, model_name):\n",
        "    model_path = f\"{target_dir}/{model_name}\"\n",
        "    print(f\"[INFO] Saving model to: {model_path}\")\n",
        "\n",
        "    torch.save(obj=model.state_dict(),\n",
        "             f=model_path)"
      ],
      "metadata": {
        "id": "itSqjcBGi_ju"
      },
      "execution_count": 19,
      "outputs": []
    },
    {
      "cell_type": "code",
      "source": [
        "save_model(model_1,\"modules/models\",\"model_1.pth\")"
      ],
      "metadata": {
        "colab": {
          "base_uri": "https://localhost:8080/"
        },
        "id": "QX6pLyXumGwD",
        "outputId": "eb91c97d-c3a7-4e0f-a0ca-e723932cb568"
      },
      "execution_count": 22,
      "outputs": [
        {
          "output_type": "stream",
          "name": "stdout",
          "text": [
            "[INFO] Saving model to: modules/models/model_1.pth\n"
          ]
        }
      ]
    },
    {
      "cell_type": "code",
      "source": [],
      "metadata": {
        "id": "EDehvVppsaQw"
      },
      "execution_count": null,
      "outputs": []
    }
  ]
}